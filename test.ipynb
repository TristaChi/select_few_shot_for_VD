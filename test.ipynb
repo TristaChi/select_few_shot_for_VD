{
 "cells": [
  {
   "cell_type": "code",
   "execution_count": 14,
   "metadata": {},
   "outputs": [
    {
     "name": "stdout",
     "output_type": "stream",
     "text": [
      "The autoreload extension is already loaded. To reload it, use:\n",
      "  %reload_ext autoreload\n"
     ]
    }
   ],
   "source": [
    "%load_ext autoreload\n",
    "%autoreload 2\n",
    "from call_llm import *\n",
    "from learn_from_mistake import *\n",
    "from prompts import *"
   ]
  },
  {
   "cell_type": "markdown",
   "metadata": {},
   "source": [
    "## test call_llm"
   ]
  },
  {
   "cell_type": "code",
   "execution_count": 15,
   "metadata": {},
   "outputs": [
    {
     "name": "stdout",
     "output_type": "stream",
     "text": [
      "The capital of France is Paris.\n"
     ]
    }
   ],
   "source": [
    "msg = [{\"role\": \"system\", \"content\": \"You are a helpful assistant.\"},\n",
    "                                {\"role\": \"user\", \"content\": \"What is the capital of France?\"}]\n",
    "response = call_openai_gpt(msg)\n",
    "\n",
    "print(response)"
   ]
  },
  {
   "cell_type": "markdown",
   "metadata": {},
   "source": [
    "## test LFM"
   ]
  },
  {
   "cell_type": "code",
   "execution_count": 21,
   "metadata": {},
   "outputs": [
    {
     "name": "stdout",
     "output_type": "stream",
     "text": [
      "Initial few-shot set:\n",
      "int x = 0;: 0\n",
      "char *ptr; free(ptr);: 1\n",
      "\n",
      "Incorrect prediction for int *p; p = malloc(10);: 1 (expected 0)\n",
      "Updated Few-Shot Set:\n",
      "('int x = 0;', 0)\n",
      "('char *ptr; free(ptr);', 1)\n",
      "('int *p; p = malloc(10);', 0)\n"
     ]
    }
   ],
   "source": [
    "lfm_initial_few_shot = [\n",
    "    (\"int x = 0;\", 0),   # NO\n",
    "    (\"char *ptr; free(ptr);\", 1)  # YES\n",
    "]\n",
    "\n",
    "# Example dataset (function snippets with labels)\n",
    "training_data = [\n",
    "    (\"int x = 0;\", 0),\n",
    "    (\"char *ptr; free(ptr);\", 1),\n",
    "    (\"int *p; p = malloc(10);\", 0),\n",
    "    (\"char *s; strcpy(s, 'Hello');\", 1),\n",
    "    (\"int x = 5; x++;\", 0),\n",
    "    (\"free(NULL);\", 0),\n",
    "    (\"int *arr = malloc(10 * sizeof(int)); arr[10] = 5;\", 1)\n",
    "]\n",
    "\n",
    "lfm_max_few_shot_size = 5\n",
    "\n",
    "# Run the updated function\n",
    "lfm_updated_few_shot = lfm_learn_from_mistakes(\n",
    "    training_data=training_data,\n",
    "    few_shot_set=lfm_initial_few_shot,\n",
    "    max_few_shot_size=lfm_max_few_shot_size,\n",
    "    prompt_template=lfm_PROMPT_TEMPLATE,  # Pass the template explicitly\n",
    "    verbose=True  # Enable verbose mode for debugging\n",
    ")\n",
    "\n",
    "print(\"Updated Few-Shot Set:\")\n",
    "for example in lfm_updated_few_shot:\n",
    "    print(example)\n"
   ]
  },
  {
   "cell_type": "markdown",
   "metadata": {},
   "source": [
    "## Test LFNN"
   ]
  },
  {
   "cell_type": "code",
   "execution_count": 22,
   "metadata": {},
   "outputs": [],
   "source": [
    "training_data = [\n",
    "    (\"int x = 0;\", 0),\n",
    "    (\"char *ptr; free(ptr);\", 1),\n",
    "    (\"int *p; p = malloc(10);\", 0),\n",
    "    (\"char *s; strcpy(s, 'Hello');\", 1),\n",
    "    (\"int x = 5; x++;\", 0),\n",
    "    (\"free(NULL);\", 0),\n",
    "    (\"int *arr = malloc(10 * sizeof(int)); arr[10] = 5;\", 1)\n",
    "]\n",
    "new_code_snippet = \"memcpy(dest, src, strlen(src));\"  # Buffer overflow risk, should be YES\n"
   ]
  },
  {
   "cell_type": "code",
   "execution_count": 25,
   "metadata": {},
   "outputs": [
    {
     "name": "stdout",
     "output_type": "stream",
     "text": [
      "Saved precomputed encodings to cache_data/encoded_data_cache.pkl\n",
      "Nearest neighbors (from anchor set):\n",
      "Instance: char *s; strcpy(s, 'Hello'); | Label: 1\n",
      "Instance: int *arr = malloc(10 * sizeof(int)); arr[10] = 5; | Label: 1\n",
      "Instance: int *p; p = malloc(10); | Label: 0\n"
     ]
    },
    {
     "data": {
      "text/plain": [
       "[(\"char *s; strcpy(s, 'Hello');\", 1),\n",
       " ('int *arr = malloc(10 * sizeof(int)); arr[10] = 5;', 1),\n",
       " ('int *p; p = malloc(10);', 0)]"
      ]
     },
     "execution_count": 25,
     "metadata": {},
     "output_type": "execute_result"
    }
   ],
   "source": [
    "import learn_from_nearest_neighbor as lfnn\n",
    "lfnn.main(\n",
    "    dataset=training_data, \n",
    "    query=new_code_snippet, \n",
    "    cache_file=\"cache_data/encoded_data_cache.pkl\", \n",
    "    demo_size=1, \n",
    "    k=3,\n",
    "    verbose=True)\n"
   ]
  },
  {
   "cell_type": "code",
   "execution_count": 26,
   "metadata": {},
   "outputs": [
    {
     "name": "stdout",
     "output_type": "stream",
     "text": [
      "Loaded precomputed encodings from cache_data/encoded_data_cache.pkl\n",
      "Nearest neighbors (from anchor set):\n",
      "Instance: char *s; strcpy(s, 'Hello'); | Label: 1\n",
      "Instance: int *arr = malloc(10 * sizeof(int)); arr[10] = 5; | Label: 1\n",
      "Instance: int *p; p = malloc(10); | Label: 0\n"
     ]
    },
    {
     "data": {
      "text/plain": [
       "[(\"char *s; strcpy(s, 'Hello');\", 1),\n",
       " ('int *arr = malloc(10 * sizeof(int)); arr[10] = 5;', 1),\n",
       " ('int *p; p = malloc(10);', 0)]"
      ]
     },
     "execution_count": 26,
     "metadata": {},
     "output_type": "execute_result"
    }
   ],
   "source": [
    "import learn_from_nearest_neighbor as lfnn\n",
    "lfnn.main(\n",
    "    dataset=training_data, \n",
    "    query=new_code_snippet, \n",
    "    cache_file=\"cache_data/encoded_data_cache.pkl\", \n",
    "    demo_size=1, \n",
    "    k=3,\n",
    "    verbose=True)\n"
   ]
  },
  {
   "cell_type": "markdown",
   "metadata": {},
   "source": [
    "## use the primevul dataset"
   ]
  },
  {
   "cell_type": "code",
   "execution_count": null,
   "metadata": {},
   "outputs": [],
   "source": []
  }
 ],
 "metadata": {
  "kernelspec": {
   "display_name": "myenv",
   "language": "python",
   "name": "python3"
  },
  "language_info": {
   "codemirror_mode": {
    "name": "ipython",
    "version": 3
   },
   "file_extension": ".py",
   "mimetype": "text/x-python",
   "name": "python",
   "nbconvert_exporter": "python",
   "pygments_lexer": "ipython3",
   "version": "3.11.2"
  }
 },
 "nbformat": 4,
 "nbformat_minor": 2
}
